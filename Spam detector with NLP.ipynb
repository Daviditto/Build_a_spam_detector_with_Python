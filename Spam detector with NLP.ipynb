{
 "cells": [
  {
   "cell_type": "code",
   "execution_count": null,
   "id": "bf9401c0-eb54-4587-9caf-bafcdf025ae3",
   "metadata": {},
   "outputs": [],
   "source": [
    "import nltk "
   ]
  },
  {
   "cell_type": "code",
   "execution_count": 2,
   "id": "db1fb121-36cd-4320-b464-37fdeec9af07",
   "metadata": {},
   "outputs": [
    {
     "name": "stdout",
     "output_type": "stream",
     "text": [
      "NLTK Downloader\n",
      "---------------------------------------------------------------------------\n",
      "    d) Download   l) List    u) Update   c) Config   h) Help   q) Quit\n",
      "---------------------------------------------------------------------------\n"
     ]
    },
    {
     "name": "stdin",
     "output_type": "stream",
     "text": [
      "Downloader>  d\n"
     ]
    },
    {
     "name": "stdout",
     "output_type": "stream",
     "text": [
      "\n",
      "Download which package (l=list; x=cancel)?\n"
     ]
    },
    {
     "name": "stdin",
     "output_type": "stream",
     "text": [
      "  Identifier>  stopwords\n"
     ]
    },
    {
     "name": "stderr",
     "output_type": "stream",
     "text": [
      "    Downloading package stopwords to /Users/david/nltk_data...\n",
      "      Package stopwords is already up-to-date!\n"
     ]
    },
    {
     "name": "stdout",
     "output_type": "stream",
     "text": [
      "\n",
      "---------------------------------------------------------------------------\n",
      "    d) Download   l) List    u) Update   c) Config   h) Help   q) Quit\n",
      "---------------------------------------------------------------------------\n"
     ]
    },
    {
     "name": "stdin",
     "output_type": "stream",
     "text": [
      "Downloader>  \n"
     ]
    },
    {
     "name": "stdout",
     "output_type": "stream",
     "text": [
      "\n",
      "---------------------------------------------------------------------------\n",
      "    d) Download   l) List    u) Update   c) Config   h) Help   q) Quit\n",
      "---------------------------------------------------------------------------\n"
     ]
    },
    {
     "name": "stdin",
     "output_type": "stream",
     "text": [
      "Downloader>  1\n"
     ]
    },
    {
     "name": "stdout",
     "output_type": "stream",
     "text": [
      "Command '1' unrecognized\n",
      "\n",
      "---------------------------------------------------------------------------\n",
      "    d) Download   l) List    u) Update   c) Config   h) Help   q) Quit\n",
      "---------------------------------------------------------------------------\n"
     ]
    },
    {
     "name": "stdin",
     "output_type": "stream",
     "text": [
      "Downloader>  q\n"
     ]
    }
   ],
   "source": [
    "nltk.download_shell()"
   ]
  },
  {
   "cell_type": "markdown",
   "id": "338eb8bb-5e09-4119-9573-37f7bc2a5bb6",
   "metadata": {},
   "source": [
    "# load the dataset"
   ]
  },
  {
   "cell_type": "markdown",
   "id": "33d2057e-4dc8-4a50-9016-ec32bdb50a04",
   "metadata": {},
   "source": [
    "**first, let's see what is inside the data"
   ]
  },
  {
   "cell_type": "code",
   "execution_count": 2,
   "id": "2b7dac1e-f393-4a9b-ba59-850080641292",
   "metadata": {},
   "outputs": [],
   "source": [
    "msg = [line.rstrip() for line in open('smsspamcollection/SMSSpamCollection')]"
   ]
  },
  {
   "cell_type": "code",
   "execution_count": 5,
   "id": "3b6bda06-fd97-4f4d-aa0c-b0eaeeb9ac68",
   "metadata": {},
   "outputs": [
    {
     "data": {
      "text/plain": [
       "'ham\\tGo until jurong point, crazy.. Available only in bugis n great world la e buffet... Cine there got amore wat...'"
      ]
     },
     "execution_count": 5,
     "metadata": {},
     "output_type": "execute_result"
    }
   ],
   "source": [
    "msg[0]"
   ]
  },
  {
   "cell_type": "code",
   "execution_count": 6,
   "id": "3e6331ae-6d19-4a40-803c-932f6c943ea8",
   "metadata": {},
   "outputs": [
    {
     "data": {
      "text/plain": [
       "5574"
      ]
     },
     "execution_count": 6,
     "metadata": {},
     "output_type": "execute_result"
    }
   ],
   "source": [
    "len(msg)"
   ]
  },
  {
   "cell_type": "code",
   "execution_count": 9,
   "id": "65af3eab-83ce-4ff9-a34d-8afe43b70e8f",
   "metadata": {},
   "outputs": [
    {
     "name": "stdout",
     "output_type": "stream",
     "text": [
      "0 ham\tGo until jurong point, crazy.. Available only in bugis n great world la e buffet... Cine there got amore wat...\n",
      "\n",
      "\n",
      "1 ham\tOk lar... Joking wif u oni...\n",
      "\n",
      "\n",
      "2 spam\tFree entry in 2 a wkly comp to win FA Cup final tkts 21st May 2005. Text FA to 87121 to receive entry question(std txt rate)T&C's apply 08452810075over18's\n",
      "\n",
      "\n",
      "3 ham\tU dun say so early hor... U c already then say...\n",
      "\n",
      "\n",
      "4 ham\tNah I don't think he goes to usf, he lives around here though\n",
      "\n",
      "\n",
      "5 spam\tFreeMsg Hey there darling it's been 3 week's now and no word back! I'd like some fun you up for it still? Tb ok! XxX std chgs to send, £1.50 to rcv\n",
      "\n",
      "\n",
      "6 ham\tEven my brother is not like to speak with me. They treat me like aids patent.\n",
      "\n",
      "\n",
      "7 ham\tAs per your request 'Melle Melle (Oru Minnaminunginte Nurungu Vettam)' has been set as your callertune for all Callers. Press *9 to copy your friends Callertune\n",
      "\n",
      "\n",
      "8 spam\tWINNER!! As a valued network customer you have been selected to receivea £900 prize reward! To claim call 09061701461. Claim code KL341. Valid 12 hours only.\n",
      "\n",
      "\n",
      "9 spam\tHad your mobile 11 months or more? U R entitled to Update to the latest colour mobiles with camera for Free! Call The Mobile Update Co FREE on 08002986030\n",
      "\n",
      "\n"
     ]
    }
   ],
   "source": [
    "for i, mess in enumerate(msg[:10]):\n",
    "    print(i, mess)\n",
    "    print('\\n')"
   ]
  },
  {
   "cell_type": "markdown",
   "id": "d7fce79d-f290-4d85-ab7c-f573e1e6e118",
   "metadata": {},
   "source": [
    "**Now, let's put this msgs into a panda dataframe "
   ]
  },
  {
   "cell_type": "code",
   "execution_count": 10,
   "id": "3d33c6a5-8c3f-41e2-a944-786e467661ec",
   "metadata": {},
   "outputs": [],
   "source": [
    "import pandas as pd"
   ]
  },
  {
   "cell_type": "code",
   "execution_count": 12,
   "id": "4a806d65-fb67-40b8-a99f-124dafa801c6",
   "metadata": {},
   "outputs": [],
   "source": [
    "msg_df=pd.read_csv('smsspamcollection/SMSSpamCollection', sep='\\t', names=['Label', 'Msgs'])"
   ]
  },
  {
   "cell_type": "code",
   "execution_count": 13,
   "id": "2fb52a04-e586-4106-b280-2a8098bda14f",
   "metadata": {},
   "outputs": [
    {
     "data": {
      "text/html": [
       "<div>\n",
       "<style scoped>\n",
       "    .dataframe tbody tr th:only-of-type {\n",
       "        vertical-align: middle;\n",
       "    }\n",
       "\n",
       "    .dataframe tbody tr th {\n",
       "        vertical-align: top;\n",
       "    }\n",
       "\n",
       "    .dataframe thead th {\n",
       "        text-align: right;\n",
       "    }\n",
       "</style>\n",
       "<table border=\"1\" class=\"dataframe\">\n",
       "  <thead>\n",
       "    <tr style=\"text-align: right;\">\n",
       "      <th></th>\n",
       "      <th>Label</th>\n",
       "      <th>Msgs</th>\n",
       "    </tr>\n",
       "  </thead>\n",
       "  <tbody>\n",
       "    <tr>\n",
       "      <th>0</th>\n",
       "      <td>ham</td>\n",
       "      <td>Go until jurong point, crazy.. Available only ...</td>\n",
       "    </tr>\n",
       "    <tr>\n",
       "      <th>1</th>\n",
       "      <td>ham</td>\n",
       "      <td>Ok lar... Joking wif u oni...</td>\n",
       "    </tr>\n",
       "    <tr>\n",
       "      <th>2</th>\n",
       "      <td>spam</td>\n",
       "      <td>Free entry in 2 a wkly comp to win FA Cup fina...</td>\n",
       "    </tr>\n",
       "    <tr>\n",
       "      <th>3</th>\n",
       "      <td>ham</td>\n",
       "      <td>U dun say so early hor... U c already then say...</td>\n",
       "    </tr>\n",
       "    <tr>\n",
       "      <th>4</th>\n",
       "      <td>ham</td>\n",
       "      <td>Nah I don't think he goes to usf, he lives aro...</td>\n",
       "    </tr>\n",
       "  </tbody>\n",
       "</table>\n",
       "</div>"
      ],
      "text/plain": [
       "  Label                                               Msgs\n",
       "0   ham  Go until jurong point, crazy.. Available only ...\n",
       "1   ham                      Ok lar... Joking wif u oni...\n",
       "2  spam  Free entry in 2 a wkly comp to win FA Cup fina...\n",
       "3   ham  U dun say so early hor... U c already then say...\n",
       "4   ham  Nah I don't think he goes to usf, he lives aro..."
      ]
     },
     "execution_count": 13,
     "metadata": {},
     "output_type": "execute_result"
    }
   ],
   "source": [
    "msg_df.head()"
   ]
  },
  {
   "cell_type": "code",
   "execution_count": 24,
   "id": "b7cbcd66-d28c-4692-9a5c-10d368cbdf47",
   "metadata": {},
   "outputs": [
    {
     "name": "stdout",
     "output_type": "stream",
     "text": [
      "Had your mobile 11 months or more? U R entitled to Update to the latest colour mobiles with camera for Free! Call The Mobile Update Co FREE on 08002986030\n"
     ]
    }
   ],
   "source": [
    "print(msg_df['Msgs'][9])"
   ]
  },
  {
   "cell_type": "code",
   "execution_count": 25,
   "id": "7b7439b5-ea0b-4bbb-bd94-5fafb1489018",
   "metadata": {},
   "outputs": [
    {
     "name": "stdout",
     "output_type": "stream",
     "text": [
      "<class 'pandas.core.frame.DataFrame'>\n",
      "RangeIndex: 5572 entries, 0 to 5571\n",
      "Data columns (total 2 columns):\n",
      " #   Column  Non-Null Count  Dtype \n",
      "---  ------  --------------  ----- \n",
      " 0   Label   5572 non-null   object\n",
      " 1   Msgs    5572 non-null   object\n",
      "dtypes: object(2)\n",
      "memory usage: 87.2+ KB\n"
     ]
    }
   ],
   "source": [
    "msg_df.info()"
   ]
  },
  {
   "cell_type": "code",
   "execution_count": 26,
   "id": "d7266213-a72d-449c-9dfb-7365ca8f24f7",
   "metadata": {},
   "outputs": [
    {
     "data": {
      "text/html": [
       "<div>\n",
       "<style scoped>\n",
       "    .dataframe tbody tr th:only-of-type {\n",
       "        vertical-align: middle;\n",
       "    }\n",
       "\n",
       "    .dataframe tbody tr th {\n",
       "        vertical-align: top;\n",
       "    }\n",
       "\n",
       "    .dataframe thead th {\n",
       "        text-align: right;\n",
       "    }\n",
       "</style>\n",
       "<table border=\"1\" class=\"dataframe\">\n",
       "  <thead>\n",
       "    <tr style=\"text-align: right;\">\n",
       "      <th></th>\n",
       "      <th>Label</th>\n",
       "      <th>Msgs</th>\n",
       "    </tr>\n",
       "  </thead>\n",
       "  <tbody>\n",
       "    <tr>\n",
       "      <th>count</th>\n",
       "      <td>5572</td>\n",
       "      <td>5572</td>\n",
       "    </tr>\n",
       "    <tr>\n",
       "      <th>unique</th>\n",
       "      <td>2</td>\n",
       "      <td>5169</td>\n",
       "    </tr>\n",
       "    <tr>\n",
       "      <th>top</th>\n",
       "      <td>ham</td>\n",
       "      <td>Sorry, I'll call later</td>\n",
       "    </tr>\n",
       "    <tr>\n",
       "      <th>freq</th>\n",
       "      <td>4825</td>\n",
       "      <td>30</td>\n",
       "    </tr>\n",
       "  </tbody>\n",
       "</table>\n",
       "</div>"
      ],
      "text/plain": [
       "       Label                    Msgs\n",
       "count   5572                    5572\n",
       "unique     2                    5169\n",
       "top      ham  Sorry, I'll call later\n",
       "freq    4825                      30"
      ]
     },
     "execution_count": 26,
     "metadata": {},
     "output_type": "execute_result"
    }
   ],
   "source": [
    "msg_df.describe()"
   ]
  },
  {
   "cell_type": "code",
   "execution_count": 27,
   "id": "1ae9ca48-0901-4557-8fb8-d73b6b9e73da",
   "metadata": {},
   "outputs": [
    {
     "data": {
      "text/html": [
       "<div>\n",
       "<style scoped>\n",
       "    .dataframe tbody tr th:only-of-type {\n",
       "        vertical-align: middle;\n",
       "    }\n",
       "\n",
       "    .dataframe tbody tr th {\n",
       "        vertical-align: top;\n",
       "    }\n",
       "\n",
       "    .dataframe thead tr th {\n",
       "        text-align: left;\n",
       "    }\n",
       "\n",
       "    .dataframe thead tr:last-of-type th {\n",
       "        text-align: right;\n",
       "    }\n",
       "</style>\n",
       "<table border=\"1\" class=\"dataframe\">\n",
       "  <thead>\n",
       "    <tr>\n",
       "      <th></th>\n",
       "      <th colspan=\"4\" halign=\"left\">Msgs</th>\n",
       "    </tr>\n",
       "    <tr>\n",
       "      <th></th>\n",
       "      <th>count</th>\n",
       "      <th>unique</th>\n",
       "      <th>top</th>\n",
       "      <th>freq</th>\n",
       "    </tr>\n",
       "    <tr>\n",
       "      <th>Label</th>\n",
       "      <th></th>\n",
       "      <th></th>\n",
       "      <th></th>\n",
       "      <th></th>\n",
       "    </tr>\n",
       "  </thead>\n",
       "  <tbody>\n",
       "    <tr>\n",
       "      <th>ham</th>\n",
       "      <td>4825</td>\n",
       "      <td>4516</td>\n",
       "      <td>Sorry, I'll call later</td>\n",
       "      <td>30</td>\n",
       "    </tr>\n",
       "    <tr>\n",
       "      <th>spam</th>\n",
       "      <td>747</td>\n",
       "      <td>653</td>\n",
       "      <td>Please call our customer service representativ...</td>\n",
       "      <td>4</td>\n",
       "    </tr>\n",
       "  </tbody>\n",
       "</table>\n",
       "</div>"
      ],
      "text/plain": [
       "       Msgs                                                               \n",
       "      count unique                                                top freq\n",
       "Label                                                                     \n",
       "ham    4825   4516                             Sorry, I'll call later   30\n",
       "spam    747    653  Please call our customer service representativ...    4"
      ]
     },
     "execution_count": 27,
     "metadata": {},
     "output_type": "execute_result"
    }
   ],
   "source": [
    "msg_df.groupby('Label').describe()"
   ]
  },
  {
   "cell_type": "code",
   "execution_count": 28,
   "id": "35448020-79c1-416b-acde-1f3203bff56a",
   "metadata": {},
   "outputs": [],
   "source": [
    "msg_df['Length'] = msg_df['Msgs'].apply(len)"
   ]
  },
  {
   "cell_type": "code",
   "execution_count": 30,
   "id": "9f1979ac-fb6c-4e6a-bc91-27befd895a57",
   "metadata": {},
   "outputs": [
    {
     "data": {
      "text/html": [
       "<div>\n",
       "<style scoped>\n",
       "    .dataframe tbody tr th:only-of-type {\n",
       "        vertical-align: middle;\n",
       "    }\n",
       "\n",
       "    .dataframe tbody tr th {\n",
       "        vertical-align: top;\n",
       "    }\n",
       "\n",
       "    .dataframe thead th {\n",
       "        text-align: right;\n",
       "    }\n",
       "</style>\n",
       "<table border=\"1\" class=\"dataframe\">\n",
       "  <thead>\n",
       "    <tr style=\"text-align: right;\">\n",
       "      <th></th>\n",
       "      <th>Label</th>\n",
       "      <th>Msgs</th>\n",
       "      <th>Length</th>\n",
       "    </tr>\n",
       "  </thead>\n",
       "  <tbody>\n",
       "    <tr>\n",
       "      <th>0</th>\n",
       "      <td>ham</td>\n",
       "      <td>Go until jurong point, crazy.. Available only ...</td>\n",
       "      <td>111</td>\n",
       "    </tr>\n",
       "    <tr>\n",
       "      <th>1</th>\n",
       "      <td>ham</td>\n",
       "      <td>Ok lar... Joking wif u oni...</td>\n",
       "      <td>29</td>\n",
       "    </tr>\n",
       "    <tr>\n",
       "      <th>2</th>\n",
       "      <td>spam</td>\n",
       "      <td>Free entry in 2 a wkly comp to win FA Cup fina...</td>\n",
       "      <td>155</td>\n",
       "    </tr>\n",
       "    <tr>\n",
       "      <th>3</th>\n",
       "      <td>ham</td>\n",
       "      <td>U dun say so early hor... U c already then say...</td>\n",
       "      <td>49</td>\n",
       "    </tr>\n",
       "    <tr>\n",
       "      <th>4</th>\n",
       "      <td>ham</td>\n",
       "      <td>Nah I don't think he goes to usf, he lives aro...</td>\n",
       "      <td>61</td>\n",
       "    </tr>\n",
       "  </tbody>\n",
       "</table>\n",
       "</div>"
      ],
      "text/plain": [
       "  Label                                               Msgs  Length\n",
       "0   ham  Go until jurong point, crazy.. Available only ...     111\n",
       "1   ham                      Ok lar... Joking wif u oni...      29\n",
       "2  spam  Free entry in 2 a wkly comp to win FA Cup fina...     155\n",
       "3   ham  U dun say so early hor... U c already then say...      49\n",
       "4   ham  Nah I don't think he goes to usf, he lives aro...      61"
      ]
     },
     "execution_count": 30,
     "metadata": {},
     "output_type": "execute_result"
    }
   ],
   "source": [
    "msg_df.head()"
   ]
  },
  {
   "cell_type": "markdown",
   "id": "a6e2c190-5749-41ae-8521-d487d891728c",
   "metadata": {},
   "source": [
    "# Data visualization"
   ]
  },
  {
   "cell_type": "code",
   "execution_count": 33,
   "id": "567acc12-457d-42eb-b6bf-3f6b67068682",
   "metadata": {},
   "outputs": [],
   "source": [
    "import matplotlib.pyplot as plt\n",
    "import seaborn as sns"
   ]
  },
  {
   "cell_type": "code",
   "execution_count": 43,
   "id": "c42b4621-49c5-4f87-9a57-bce68a4e0b6b",
   "metadata": {},
   "outputs": [
    {
     "data": {
      "image/png": "[encoded data removed]",
      "text/plain": [
       "<Figure size 720x432 with 1 Axes>"
      ]
     },
     "metadata": {
      "needs_background": "light"
     },
     "output_type": "display_data"
    }
   ],
   "source": [
    "msg_df['Length'].plot.hist(edgecolor='black',bins=150, figsize=(10,6)); "
   ]
  },
  {
   "cell_type": "code",
   "execution_count": 44,
   "id": "3c19393b-1ede-4666-8e61-fb630d83aed8",
   "metadata": {},
   "outputs": [
    {
     "data": {
      "text/plain": [
       "count    5572.000000\n",
       "mean       80.489950\n",
       "std        59.942907\n",
       "min         2.000000\n",
       "25%        36.000000\n",
       "50%        62.000000\n",
       "75%       122.000000\n",
       "max       910.000000\n",
       "Name: Length, dtype: float64"
      ]
     },
     "execution_count": 44,
     "metadata": {},
     "output_type": "execute_result"
    }
   ],
   "source": [
    "msg_df['Length'].describe() # the longest msg is 910 in length"
   ]
  },
  {
   "cell_type": "code",
   "execution_count": 62,
   "id": "54afbc4d-5eaf-49d6-be9d-ec0396a9b751",
   "metadata": {},
   "outputs": [
    {
     "data": {
      "text/plain": [
       "\"For me the love should start with attraction.i should feel that I need her every time around me.she should be the first thing which comes in my thoughts.I would start the day and end it with her.she should be there every time I dream.love will be then when my every breath has her name.my life should happen around her.my life will be named to her.I would cry for her.will give all my happiness and take all her sorrows.I will be ready to fight with anyone for her.I will be in love when I will be doing the craziest things for her.love will be when I don't have to proove anyone that my girl is the most beautiful lady on the whole planet.I will always be singing praises for her.love will be when I start up making chicken curry and end up makiing sambar.life will be the most beautiful then.will get every morning and thank god for the day because she is with me.I would like to say a lot..will tell later..\""
      ]
     },
     "execution_count": 62,
     "metadata": {},
     "output_type": "execute_result"
    }
   ],
   "source": [
    "msg_df[msg_df['Length']==910]['Msgs'].iloc[0] # check the longest msg"
   ]
  },
  {
   "cell_type": "code",
   "execution_count": 70,
   "id": "880b04d4-e4d8-483a-adea-1dec8ab18021",
   "metadata": {},
   "outputs": [
    {
     "data": {
      "image/png": "[encoded data removed]",
      "text/plain": [
       "<Figure size 720x432 with 2 Axes>"
      ]
     },
     "metadata": {
      "needs_background": "light"
     },
     "output_type": "display_data"
    }
   ],
   "source": [
    "msg_df.hist(column='Length', by='Label', figsize=(10,6), bins=30, edgecolor='black'); # it seems like the spam msgs tend to be longer"
   ]
  },
  {
   "cell_type": "markdown",
   "id": "961d37a4-4839-468d-bcee-193e4f15553a",
   "metadata": {},
   "source": [
    "# Text tokenization"
   ]
  },
  {
   "cell_type": "code",
   "execution_count": 84,
   "id": "75857b17-5666-4400-b802-7b088da2cac7",
   "metadata": {},
   "outputs": [],
   "source": [
    "import string\n",
    "from nltk.corpus import stopwords"
   ]
  },
  {
   "cell_type": "code",
   "execution_count": 85,
   "id": "4a86e7aa-c1fe-42f1-b742-ad0c23cbefc4",
   "metadata": {},
   "outputs": [],
   "source": [
    "# a simple example"
   ]
  },
  {
   "cell_type": "code",
   "execution_count": 99,
   "id": "9fc7898b-241e-4429-9cb8-cb7e9c486ee8",
   "metadata": {},
   "outputs": [],
   "source": [
    "ex = 'Notice: this is a simple example !!'"
   ]
  },
  {
   "cell_type": "code",
   "execution_count": 100,
   "id": "0be6a9ee-5f27-409e-a137-dac025f3e278",
   "metadata": {},
   "outputs": [],
   "source": [
    "ex_without_punc = [i for i in ex if i not in string.punctuation]"
   ]
  },
  {
   "cell_type": "code",
   "execution_count": 101,
   "id": "879da46f-583c-446c-a5b2-236493c557ef",
   "metadata": {},
   "outputs": [
    {
     "data": {
      "text/plain": [
       "['N',\n",
       " 'o',\n",
       " 't',\n",
       " 'i',\n",
       " 'c',\n",
       " 'e',\n",
       " ' ',\n",
       " 't',\n",
       " 'h',\n",
       " 'i',\n",
       " 's',\n",
       " ' ',\n",
       " 'i',\n",
       " 's',\n",
       " ' ',\n",
       " 'a',\n",
       " ' ',\n",
       " 's',\n",
       " 'i',\n",
       " 'm',\n",
       " 'p',\n",
       " 'l',\n",
       " 'e',\n",
       " ' ',\n",
       " 'e',\n",
       " 'x',\n",
       " 'a',\n",
       " 'm',\n",
       " 'p',\n",
       " 'l',\n",
       " 'e',\n",
       " ' ']"
      ]
     },
     "execution_count": 101,
     "metadata": {},
     "output_type": "execute_result"
    }
   ],
   "source": [
    "ex_without_punc"
   ]
  },
  {
   "cell_type": "code",
   "execution_count": 102,
   "id": "2cf20993-3e76-4724-80c4-0536f3d6d11c",
   "metadata": {},
   "outputs": [],
   "source": [
    "ex_without_punc = ''.join(ex_without_punc)"
   ]
  },
  {
   "cell_type": "code",
   "execution_count": 103,
   "id": "fa61ae29-5ed6-4fef-afd1-8ebb4996886f",
   "metadata": {},
   "outputs": [
    {
     "data": {
      "text/plain": [
       "'Notice this is a simple example '"
      ]
     },
     "execution_count": 103,
     "metadata": {},
     "output_type": "execute_result"
    }
   ],
   "source": [
    "ex_without_punc"
   ]
  },
  {
   "cell_type": "code",
   "execution_count": 104,
   "id": "af64a2cf-b498-473e-978e-e69c108e05be",
   "metadata": {},
   "outputs": [
    {
     "data": {
      "text/plain": [
       "['Notice', 'this', 'is', 'a', 'simple', 'example']"
      ]
     },
     "execution_count": 104,
     "metadata": {},
     "output_type": "execute_result"
    }
   ],
   "source": [
    "ex_without_punc.split()"
   ]
  },
  {
   "cell_type": "code",
   "execution_count": 117,
   "id": "f7cfc7c8-7507-4265-9a9b-b89280d1693f",
   "metadata": {},
   "outputs": [],
   "source": [
    "clean_ex = [i for i in ex_without_punc.split() if i.lower() not in stopwords.words('english')]"
   ]
  },
  {
   "cell_type": "code",
   "execution_count": 118,
   "id": "a9b37f81-24a5-4d63-8538-4ba3bc378d16",
   "metadata": {},
   "outputs": [
    {
     "data": {
      "text/plain": [
       "['Notice', 'simple', 'example']"
      ]
     },
     "execution_count": 118,
     "metadata": {},
     "output_type": "execute_result"
    }
   ],
   "source": [
    "clean_ex"
   ]
  },
  {
   "cell_type": "code",
   "execution_count": null,
   "id": "06918b93-2dac-46a1-b2cd-ab2441a925e8",
   "metadata": {},
   "outputs": [],
   "source": []
  },
  {
   "cell_type": "code",
   "execution_count": 119,
   "id": "3fa6c022-0846-4887-b5cf-629701f8b166",
   "metadata": {},
   "outputs": [],
   "source": [
    "# now let's define a function to cover all the process above"
   ]
  },
  {
   "cell_type": "code",
   "execution_count": 127,
   "id": "871190dc-6596-4869-8191-8f8796e919e8",
   "metadata": {},
   "outputs": [],
   "source": [
    "def msg_tokenizer(msg):\n",
    "    without_punc = [i for i in msg if i not in string.punctuation]\n",
    "    text_without_punc = ''.join(without_punc)\n",
    "    clean_msg =  [i for i in text_without_punc.split() if i.lower() not in stopwords.words('english')]\n",
    "    return clean_msg"
   ]
  },
  {
   "cell_type": "code",
   "execution_count": 128,
   "id": "485d3c86-20a6-413b-92bb-e0dafead1ed4",
   "metadata": {},
   "outputs": [
    {
     "data": {
      "text/plain": [
       "['Notice', 'simple', 'example']"
      ]
     },
     "execution_count": 128,
     "metadata": {},
     "output_type": "execute_result"
    }
   ],
   "source": [
    "msg_tokenizer(ex) # it works well "
   ]
  },
  {
   "cell_type": "code",
   "execution_count": 131,
   "id": "a49b99c4-f0af-4b24-ad14-1ec92be06466",
   "metadata": {},
   "outputs": [
    {
     "data": {
      "text/plain": [
       "0    [Go, jurong, point, crazy, Available, bugis, n...\n",
       "1                       [Ok, lar, Joking, wif, u, oni]\n",
       "2    [Free, entry, 2, wkly, comp, win, FA, Cup, fin...\n",
       "3        [U, dun, say, early, hor, U, c, already, say]\n",
       "4    [Nah, dont, think, goes, usf, lives, around, t...\n",
       "Name: Msgs, dtype: object"
      ]
     },
     "execution_count": 131,
     "metadata": {},
     "output_type": "execute_result"
    }
   ],
   "source": [
    "msg_df['Msgs'].head(5).apply(msg_tokenizer)"
   ]
  },
  {
   "cell_type": "markdown",
   "id": "c6b9154e-a61b-4539-9716-eb0e5e78179f",
   "metadata": {},
   "source": [
    "# Count Vectorization "
   ]
  },
  {
   "cell_type": "code",
   "execution_count": 133,
   "id": "beb3c9ca-d2b7-4da1-b288-57ea17f1f30f",
   "metadata": {},
   "outputs": [],
   "source": [
    "from sklearn.feature_extraction.text import CountVectorizer"
   ]
  },
  {
   "cell_type": "code",
   "execution_count": 134,
   "id": "eaf688aa-2ff6-480d-ac2b-117cc372f129",
   "metadata": {},
   "outputs": [],
   "source": [
    "msg_transformer = CountVectorizer(analyzer=msg_tokenizer).fit(msg_df['Msgs'])"
   ]
  },
  {
   "cell_type": "code",
   "execution_count": 137,
   "id": "4989ca7e-4f6a-46d1-b1fb-2982ef8721c8",
   "metadata": {},
   "outputs": [
    {
     "name": "stdout",
     "output_type": "stream",
     "text": [
      "11425\n"
     ]
    }
   ],
   "source": [
    "print(len(msg_transformer.vocabulary_)) "
   ]
  },
  {
   "cell_type": "code",
   "execution_count": 138,
   "id": "cc72cedf-aaf2-4e17-a9b0-8d30ba366da3",
   "metadata": {},
   "outputs": [],
   "source": [
    "# let's look at a transfromed msg, see how it looks like"
   ]
  },
  {
   "cell_type": "code",
   "execution_count": 141,
   "id": "23cbe514-b141-40b0-aa71-04694ed63638",
   "metadata": {},
   "outputs": [
    {
     "name": "stdout",
     "output_type": "stream",
     "text": [
      "FreeMsg Hey there darling it's been 3 week's now and no word back! I'd like some fun you up for it still? Tb ok! XxX std chgs to send, £1.50 to rcv\n"
     ]
    }
   ],
   "source": [
    "msg5 = msg_df['Msgs'][5]\n",
    "print(msg5)"
   ]
  },
  {
   "cell_type": "code",
   "execution_count": 151,
   "id": "cc2fe5cc-daf2-4407-8dc0-3c183787b4c1",
   "metadata": {},
   "outputs": [
    {
     "name": "stdout",
     "output_type": "stream",
     "text": [
      "  (0, 543)\t1\n",
      "  (0, 1943)\t1\n",
      "  (0, 2222)\t1\n",
      "  (0, 2346)\t1\n",
      "  (0, 3930)\t1\n",
      "  (0, 4379)\t1\n",
      "  (0, 4893)\t1\n",
      "  (0, 5467)\t1\n",
      "  (0, 5864)\t1\n",
      "  (0, 6755)\t1\n",
      "  (0, 7800)\t1\n",
      "  (0, 8567)\t1\n",
      "  (0, 9209)\t1\n",
      "  (0, 9641)\t1\n",
      "  (0, 10073)\t1\n",
      "  (0, 10093)\t1\n",
      "  (0, 11011)\t1\n",
      "  (0, 11150)\t1\n",
      "  (0, 11371)\t1 \t (1, 11425)\n"
     ]
    }
   ],
   "source": [
    "transformed_msg5 = msg_transformer.transform([msg5]) # remember to make msg5 in a list\n",
    "print(transformed_msg5, '\\t',transformed_msg5.shape)"
   ]
  },
  {
   "cell_type": "code",
   "execution_count": 154,
   "id": "e7987d0d-5ad6-4f63-850a-4606dee39160",
   "metadata": {},
   "outputs": [
    {
     "data": {
      "text/plain": [
       "'FreeMsg'"
      ]
     },
     "execution_count": 154,
     "metadata": {},
     "output_type": "execute_result"
    }
   ],
   "source": [
    "msg_transformer.get_feature_names()[1943] # check specific word"
   ]
  },
  {
   "cell_type": "code",
   "execution_count": 165,
   "id": "aab433e1-b5c6-44ed-bb39-2e29eddeb1f9",
   "metadata": {},
   "outputs": [],
   "source": [
    "transformed_msg = msg_transformer.transform(msg_df['Msgs']) # transform our msg data"
   ]
  },
  {
   "cell_type": "code",
   "execution_count": 160,
   "id": "e129ad2a-5c49-4d8c-8eba-38b441aab572",
   "metadata": {},
   "outputs": [
    {
     "name": "stdout",
     "output_type": "stream",
     "text": [
      "the shape of the sparse matrix: (5572, 11425) \n",
      "\n",
      "the amount of non-zero occurances: 50548 \n",
      "\n"
     ]
    }
   ],
   "source": [
    "print(f'the shape of the sparse matrix: {transformed_msg.shape} \\n')\n",
    "print(f'the amount of non-zero occurances: {transformed_msg.nnz} \\n')"
   ]
  },
  {
   "cell_type": "markdown",
   "id": "54b65c4f-bd10-4c70-8c0f-ff8b36c8dd29",
   "metadata": {},
   "source": [
    "# Tfidf-Vectorization"
   ]
  },
  {
   "cell_type": "code",
   "execution_count": 163,
   "id": "9c18bb0a-b115-4afa-8dfb-919fb1f753f7",
   "metadata": {},
   "outputs": [],
   "source": [
    "from sklearn.feature_extraction.text import TfidfTransformer"
   ]
  },
  {
   "cell_type": "code",
   "execution_count": 164,
   "id": "36b2eb13-313d-4997-b482-b8672e9ba2f1",
   "metadata": {},
   "outputs": [],
   "source": [
    "tfidf_transformer = TfidfTransformer().fit(transformed_msg)"
   ]
  },
  {
   "cell_type": "code",
   "execution_count": 167,
   "id": "736c0b80-4396-48b4-934c-4757a1e4d39d",
   "metadata": {},
   "outputs": [
    {
     "name": "stdout",
     "output_type": "stream",
     "text": [
      "  (0, 11371)\t0.21562498424494592\n",
      "  (0, 11150)\t0.20797972406541168\n",
      "  (0, 11011)\t0.22715306908991975\n",
      "  (0, 10093)\t0.1612251876427042\n",
      "  (0, 10073)\t0.2509014163169898\n",
      "  (0, 9641)\t0.15811922187430408\n",
      "  (0, 9209)\t0.29215147836872296\n",
      "  (0, 8567)\t0.16663191124045565\n",
      "  (0, 7800)\t0.1451533754697944\n",
      "  (0, 6755)\t0.2132611765079785\n",
      "  (0, 5864)\t0.2746497635440599\n",
      "  (0, 5467)\t0.3060433709506642\n",
      "  (0, 4893)\t0.1612251876427042\n",
      "  (0, 4379)\t0.29215147836872296\n",
      "  (0, 3930)\t0.3060433709506642\n",
      "  (0, 2346)\t0.2509014163169898\n",
      "  (0, 2222)\t0.1730546963330754\n",
      "  (0, 1943)\t0.2509014163169898\n",
      "  (0, 543)\t0.18730163481531384\n"
     ]
    }
   ],
   "source": [
    "print(tfidf_transformer.transform(transformed_msg5)) # let's see how this works using the msg5 as a example"
   ]
  },
  {
   "cell_type": "code",
   "execution_count": 172,
   "id": "13e2640a-7a95-4e7e-a9dd-bdecf2943d44",
   "metadata": {},
   "outputs": [
    {
     "data": {
      "text/plain": [
       "7913"
      ]
     },
     "execution_count": 172,
     "metadata": {},
     "output_type": "execute_result"
    }
   ],
   "source": [
    "msg_transformer.vocabulary_['love']"
   ]
  },
  {
   "cell_type": "code",
   "execution_count": 176,
   "id": "beab057f-8ff6-446d-b981-e17cd072e810",
   "metadata": {},
   "outputs": [
    {
     "data": {
      "text/plain": [
       "4.773658523649919"
      ]
     },
     "execution_count": 176,
     "metadata": {},
     "output_type": "execute_result"
    }
   ],
   "source": [
    "tfidf_transformer.idf_[msg_transformer.vocabulary_['love']] # Inverse document frequency of a perticular word"
   ]
  },
  {
   "cell_type": "code",
   "execution_count": 178,
   "id": "d6380a7b-a8ed-4854-88f0-d01ebef15e91",
   "metadata": {},
   "outputs": [],
   "source": [
    "transformed_tfidf_msg = tfidf_transformer.transform(transformed_msg)"
   ]
  },
  {
   "cell_type": "markdown",
   "id": "624a44ed-b966-4d06-8fd7-796787e3fd35",
   "metadata": {},
   "source": [
    "# Using a classifier to predict the label of a msg"
   ]
  },
  {
   "cell_type": "code",
   "execution_count": 177,
   "id": "c3d8e9ac-c56a-4f56-9512-4fedb63440dc",
   "metadata": {},
   "outputs": [],
   "source": [
    "from sklearn.naive_bayes import MultinomialNB"
   ]
  },
  {
   "cell_type": "code",
   "execution_count": 180,
   "id": "65dcaf4d-5645-46e2-bc4a-e11413a1f774",
   "metadata": {},
   "outputs": [],
   "source": [
    "spam_detective = MultinomialNB().fit(transformed_tfidf_msg, msg_df['Label'])"
   ]
  },
  {
   "cell_type": "code",
   "execution_count": 182,
   "id": "97b131c2-f323-4899-9628-415f781b387a",
   "metadata": {},
   "outputs": [
    {
     "data": {
      "text/plain": [
       "'ham'"
      ]
     },
     "execution_count": 182,
     "metadata": {},
     "output_type": "execute_result"
    }
   ],
   "source": [
    "spam_detective.predict(tfidf_transformer.transform(transformed_msg5))[0] "
   ]
  },
  {
   "cell_type": "code",
   "execution_count": 186,
   "id": "06bffc65-4853-4df5-a3f5-a2eed0b92f71",
   "metadata": {},
   "outputs": [
    {
     "data": {
      "text/plain": [
       "'spam'"
      ]
     },
     "execution_count": 186,
     "metadata": {},
     "output_type": "execute_result"
    }
   ],
   "source": [
    "msg_df['Label'][5] # seems like we predict wrong"
   ]
  },
  {
   "cell_type": "code",
   "execution_count": 194,
   "id": "014511d6-aa8e-414b-a00a-5d7537694791",
   "metadata": {},
   "outputs": [
    {
     "name": "stdout",
     "output_type": "stream",
     "text": [
      "['ham' 'ham' 'spam' ... 'ham' 'ham' 'ham']\n"
     ]
    }
   ],
   "source": [
    "all_pred = spam_detective.predict(transformed_tfidf_msg)\n",
    "print(all_pred)"
   ]
  },
  {
   "cell_type": "markdown",
   "id": "aa1012ae-2be2-4657-95b7-8fdce6cf8186",
   "metadata": {},
   "source": [
    "### now let's build a pipe line to test the model"
   ]
  },
  {
   "cell_type": "code",
   "execution_count": 211,
   "id": "19c3d346-0ddd-48fa-b165-599d7da2191d",
   "metadata": {},
   "outputs": [],
   "source": [
    "from sklearn.pipeline import Pipeline\n",
    "from sklearn.model_selection import train_test_split\n",
    "from sklearn.metrics import classification_report, confusion_matrix"
   ]
  },
  {
   "cell_type": "code",
   "execution_count": 197,
   "id": "8c6dabf4-99d6-4919-ae72-f454882931b0",
   "metadata": {},
   "outputs": [],
   "source": [
    "Xtrain, Xtest, ytrain, ytest = train_test_split(msg_df['Msgs'], msg_df['Label'])"
   ]
  },
  {
   "cell_type": "code",
   "execution_count": 200,
   "id": "3154314a-830e-4c7b-b552-ce41dd5c31e9",
   "metadata": {},
   "outputs": [],
   "source": [
    "pipe = Pipeline([('count', CountVectorizer(analyzer=msg_tokenizer)),('tfidf', TfidfTransformer()),('clf', MultinomialNB())])"
   ]
  },
  {
   "cell_type": "code",
   "execution_count": 201,
   "id": "d4254267-dc2c-4e6d-a35a-9590fa90261c",
   "metadata": {},
   "outputs": [
    {
     "data": {
      "text/plain": [
       "Pipeline(steps=[('count',\n",
       "                 CountVectorizer(analyzer=<function msg_tokenizer at 0x7fe7254acaf0>)),\n",
       "                ('tfidf', TfidfTransformer()), ('clf', MultinomialNB())])"
      ]
     },
     "execution_count": 201,
     "metadata": {},
     "output_type": "execute_result"
    }
   ],
   "source": [
    "pipe.fit(Xtrain,ytrain)"
   ]
  },
  {
   "cell_type": "code",
   "execution_count": 207,
   "id": "848b8925-0b45-4e25-be58-5b1c132b558a",
   "metadata": {},
   "outputs": [
    {
     "data": {
      "text/plain": [
       "{'count': CountVectorizer(analyzer=<function msg_tokenizer at 0x7fe7254acaf0>),\n",
       " 'tfidf': TfidfTransformer(),\n",
       " 'clf': MultinomialNB()}"
      ]
     },
     "execution_count": 207,
     "metadata": {},
     "output_type": "execute_result"
    }
   ],
   "source": [
    "pipe.named_steps"
   ]
  },
  {
   "cell_type": "code",
   "execution_count": 209,
   "id": "b1e8eea5-7ac0-4a3e-8f90-48ce1a9bf950",
   "metadata": {},
   "outputs": [],
   "source": [
    "predictions = pipe.predict(Xtest)"
   ]
  },
  {
   "cell_type": "code",
   "execution_count": 222,
   "id": "a913464a-2505-4fc9-891d-48f9128a9f93",
   "metadata": {},
   "outputs": [
    {
     "data": {
      "image/png": "[encoded data removed]",
      "text/plain": [
       "<Figure size 432x288 with 1 Axes>"
      ]
     },
     "metadata": {
      "needs_background": "light"
     },
     "output_type": "display_data"
    }
   ],
   "source": [
    "sns.heatmap(confusion_matrix(ytest, predictions), xticklabels=msg_df['Label'].unique(), yticklabels=ytest.unique(), annot=True, cbar=False);"
   ]
  },
  {
   "cell_type": "code",
   "execution_count": 225,
   "id": "5765ef83-2cfb-48a8-a03c-1b5f9591b9cc",
   "metadata": {},
   "outputs": [
    {
     "name": "stdout",
     "output_type": "stream",
     "text": [
      "              precision    recall  f1-score   support\n",
      "\n",
      "         ham       0.96      1.00      0.98      1197\n",
      "        spam       1.00      0.72      0.84       196\n",
      "\n",
      "    accuracy                           0.96      1393\n",
      "   macro avg       0.98      0.86      0.91      1393\n",
      "weighted avg       0.96      0.96      0.96      1393\n",
      "\n"
     ]
    }
   ],
   "source": [
    "print(classification_report(ytest, predictions)) # overall the model performs very well"
   ]
  },
  {
   "cell_type": "code",
   "execution_count": null,
   "id": "adb45285-db2e-405a-ad21-903697ccd38b",
   "metadata": {},
   "outputs": [],
   "source": []
  }
 ],
 "metadata": {
  "kernelspec": {
   "display_name": "Python 3 (ipykernel)",
   "language": "python",
   "name": "python3"
  },
  "language_info": {
   "codemirror_mode": {
    "name": "ipython",
    "version": 3
   },
   "file_extension": ".py",
   "mimetype": "text/x-python",
   "name": "python",
   "nbconvert_exporter": "python",
   "pygments_lexer": "ipython3",
   "version": "3.9.7"
  }
 },
 "nbformat": 4,
 "nbformat_minor": 5
}
